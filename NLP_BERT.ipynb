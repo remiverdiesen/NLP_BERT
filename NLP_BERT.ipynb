{
  "nbformat": 4,
  "nbformat_minor": 0,
  "metadata": {
    "colab": {
      "name": "Untitled0.ipynb",
      "private_outputs": true,
      "provenance": [],
      "authorship_tag": "ABX9TyNzomDr2chuxh3s8rFppzdZ",
      "include_colab_link": true
    },
    "kernelspec": {
      "name": "python3",
      "display_name": "Python 3"
    },
    "language_info": {
      "name": "python"
    },
    "accelerator": "GPU"
  },
  "cells": [
    {
      "cell_type": "markdown",
      "metadata": {
        "id": "view-in-github",
        "colab_type": "text"
      },
      "source": [
        "<a href=\"https://colab.research.google.com/github/remiverdiesen/NLP_BERT/blob/main/NLP_BERT.ipynb\" target=\"_parent\"><img src=\"https://colab.research.google.com/assets/colab-badge.svg\" alt=\"Open In Colab\"/></a>"
      ]
    },
    {
      "cell_type": "code",
      "execution_count": null,
      "metadata": {
        "id": "h-GI3b0cZPpw"
      },
      "outputs": [],
      "source": [
        "import torch\n",
        "from simpletransformers.classification import ClassificationModel\n",
        "import sklearn\n",
        "import pandas as pd\n",
        "import numpy as np\n",
        "import random\n",
        "import spacy\n",
        "import matplotlib.pyplot as plt\n",
        "from sklearn import metrics\n",
        "from spacy.tokenizer import Tokenizer\n",
        "from spacy.lang.en import English\n",
        "import checklist\n",
        "from checklist.editor import Editor\n",
        "from checklist.perturb import Perturb"
      ]
    },
    {
      "cell_type": "code",
      "source": [
        "pip install simpletransformers"
      ],
      "metadata": {
        "id": "Drnt8O2pZp0R"
      },
      "execution_count": null,
      "outputs": []
    },
    {
      "cell_type": "code",
      "source": [
        "pip install checklist"
      ],
      "metadata": {
        "id": "BOYgDSDxZxO4"
      },
      "execution_count": null,
      "outputs": []
    },
    {
      "cell_type": "code",
      "source": [
        "pip install torch"
      ],
      "metadata": {
        "id": "5mpNSr0LZ1GX"
      },
      "execution_count": null,
      "outputs": []
    },
    {
      "cell_type": "markdown",
      "source": [
        "DATA IMPORT"
      ],
      "metadata": {
        "id": "DLrgb4aiayag"
      }
    },
    {
      "cell_type": "code",
      "source": [
        "DIR = r\"C:\\Users\\Remy\\Documents\\Msc\\NLP\\Assignment_2\\Assignment 2_IntrotoNLP2022_data\\Assignment 2_IntrotoNLP2022_data\"\n",
        "\n",
        "df_train = pd.read_csv(DIR +'\\olid-train.csv')"
      ],
      "metadata": {
        "id": "40DqfTOPa1F1"
      },
      "execution_count": null,
      "outputs": []
    },
    {
      "cell_type": "code",
      "source": [
        "model = ClassificationModel(\n",
        "    'bert', 'bert-base-cased', use_cuda = False\n",
        ")"
      ],
      "metadata": {
        "id": "GnvubdF4Z7mU"
      },
      "execution_count": null,
      "outputs": []
    },
    {
      "cell_type": "code",
      "source": [
        "df_train = pd.read_csv(DIR +'\\olid-train.csv')\n",
        "model.train_model(df_train, acc=sklearn.metrics.accuracy_score)"
      ],
      "metadata": {
        "id": "V3HCOT9Har7w"
      },
      "execution_count": null,
      "outputs": []
    }
  ]
}